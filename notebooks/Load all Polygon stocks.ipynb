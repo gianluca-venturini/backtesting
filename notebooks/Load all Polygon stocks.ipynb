{
 "cells": [
  {
   "cell_type": "code",
   "execution_count": null,
   "metadata": {},
   "outputs": [],
   "source": [
    "# Reload automatically all your modules\n",
    "%load_ext autoreload\n",
    "%autoreload 2"
   ]
  },
  {
   "cell_type": "code",
   "execution_count": null,
   "metadata": {
    "scrolled": false
   },
   "outputs": [],
   "source": [
    "from data_source.polygon import get_tickers, get_stocks_aggregate_data\n",
    "from util.cache_util import cache_size\n",
    "from datetime import datetime\n",
    "from pytz import timezone, utc\n",
    "# t = get_tickers('stocks', api_key='AKDE6LMVUPFDM79QL53D')\n",
    "data = get_stocks_aggregate_data('day', datetime(2019, 1, 1, tzinfo=utc), datetime(2019, 6, 1, tzinfo=utc), api_key='AKDE6LMVUPFDM79QL53D')\n",
    "print('Cache size {}KB'.format(int(cache_size() / 1024)))"
   ]
  }
 ],
 "metadata": {
  "kernelspec": {
   "display_name": "Python 3",
   "language": "python",
   "name": "python3"
  },
  "language_info": {
   "codemirror_mode": {
    "name": "ipython",
    "version": 3
   },
   "file_extension": ".py",
   "mimetype": "text/x-python",
   "name": "python",
   "nbconvert_exporter": "python",
   "pygments_lexer": "ipython3",
   "version": "3.7.3"
  }
 },
 "nbformat": 4,
 "nbformat_minor": 2
}
